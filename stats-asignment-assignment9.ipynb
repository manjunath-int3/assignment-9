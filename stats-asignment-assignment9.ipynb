{
 "cells": [
  {
   "cell_type": "code",
   "execution_count": 8,
   "metadata": {},
   "outputs": [
    {
     "name": "stdout",
     "output_type": "stream",
     "text": [
      "standard deviation of the population is= 335.92740617910624\n"
     ]
    }
   ],
   "source": [
    "import statistics\n",
    "from statistics import pstdev\n",
    "x=[1550, 1700, 900, 850, 1000, 950]\n",
    "y=pstdev(x)\n",
    "print(\"standard deviation of the population is=\",y)"
   ]
  },
  {
   "cell_type": "code",
   "execution_count": 9,
   "metadata": {},
   "outputs": [
    {
     "name": "stdout",
     "output_type": "stream",
     "text": [
      "variance of the population is= 5183.25\n"
     ]
    }
   ],
   "source": [
    "import statistics\n",
    "from statistics import pvariance\n",
    "x=[3, 21, 98, 203, 17, 9]\n",
    "y=pvariance(x)\n",
    "print(\"variance of the population is=\",y)"
   ]
  },
  {
   "cell_type": "code",
   "execution_count": 7,
   "metadata": {},
   "outputs": [
    {
     "name": "stdout",
     "output_type": "stream",
     "text": [
      "probability of passing all subjects= 0.8\n",
      "probability of failing in one subjects= 0.1\n",
      "probability of fialing in two subjects= 0.07\n",
      "probability of failing in three subjects= 0.03\n"
     ]
    }
   ],
   "source": [
    "#In a class on 100 students, 80 students passed in all subjects, 10 failed in one subject, 7 failed in two subjects and 3 failed in three subjects. \n",
    "#Find the probability distribution of the variable for number of subjects a student from the given class has failed in.\n",
    "import numpy as np\n",
    "import pandas as pd\n",
    "import numpy.random as randn\n",
    "total=100\n",
    "all_pass=80\n",
    "one_fail=10\n",
    "two_fail=7\n",
    "three_fail=3\n",
    "print(\"probability of passing all subjects=\", all_pass/total)\n",
    "print(\"probability of failing in one subjects=\", one_fail/total)\n",
    "print(\"probability of fialing in two subjects=\", two_fail/total)\n",
    "print(\"probability of failing in three subjects=\", three_fail/total)"
   ]
  },
  {
   "cell_type": "code",
   "execution_count": 14,
   "metadata": {},
   "outputs": [
    {
     "name": "stdout",
     "output_type": "stream",
     "text": [
      "probability of correctly answering 5 questions is= 3.4264958230778575e-06\n"
     ]
    }
   ],
   "source": [
    "#A test is conducted which is consisting of 20 MCQs (multiple choices questions) with every MCQ having its four options out of \n",
    "#which only one is correct.Determine the probability that a person undertaking that test has answered exactly 5 questions wrong.\n",
    "import numpy as np\n",
    "import math\n",
    "probability=((20*19*18*17*16)*(0.25**15)*(0.75**5))/math.factorial(5)\n",
    "print(\"probability of correctly answering 5 questions is=\",probability)"
   ]
  },
  {
   "cell_type": "code",
   "execution_count": 15,
   "metadata": {},
   "outputs": [
    {
     "name": "stdout",
     "output_type": "stream",
     "text": [
      "probability of getting a “D” exactly 5 times is= 2.4427639671008098e-26\n"
     ]
    }
   ],
   "source": [
    "#A die marked A to E is rolled 50 times. Find the probability of getting a “D” exactly 5 times.\n",
    "#n=50\n",
    "#k=5\n",
    "#n-k=45\n",
    "probability=((50*49*48*47*46)*((1/5)**45)*((4/5)**5))/math.factorial(5)\n",
    "print(\"probability of getting a “D” exactly 5 times is=\",probability)"
   ]
  },
  {
   "cell_type": "code",
   "execution_count": 4,
   "metadata": {},
   "outputs": [
    {
     "name": "stdout",
     "output_type": "stream",
     "text": [
      "Probability of getting RR= 0.26666666666666666\n",
      "Probability of getting RB= 0.5333333333333333\n",
      "Probability of getting BR= 0.5333333333333333\n",
      "Probability of getting BB= 0.6666666666666666\n"
     ]
    }
   ],
   "source": [
    "#Two balls are drawn at random in succession without replacement from an urn containing 4 red balls and 6 black balls.Find the probabilities of all the possible outcomes.\n",
    "#Total balls=10\n",
    "#Total ways to draw the balls= 10C2\n",
    "#Different combination of drawing the balls= [RR,RB,BR,BB]\n",
    "#Chances of getting RR=4*3=12\n",
    "#Chances of getting RB=4*6=24\n",
    "#Chances of getting BR=6*4=24\n",
    "#Chances of getting BB=6*5=30\n",
    "import math\n",
    "\n",
    "def nCr(n,r):\n",
    "    f = math.factorial\n",
    "    return f(n) / f(r) / f(n-r)\n",
    "x=nCr(10,2)\n",
    "print(\"Probability of getting RR=\",12/x)\n",
    "print(\"Probability of getting RB=\",24/x)\n",
    "print(\"Probability of getting BR=\",24/x)\n",
    "print(\"Probability of getting BB=\",30/x)\n",
    "\n",
    "\n",
    "\n"
   ]
  },
  {
   "cell_type": "code",
   "execution_count": null,
   "metadata": {},
   "outputs": [],
   "source": []
  }
 ],
 "metadata": {
  "kernelspec": {
   "display_name": "Python 3",
   "language": "python",
   "name": "python3"
  },
  "language_info": {
   "codemirror_mode": {
    "name": "ipython",
    "version": 3
   },
   "file_extension": ".py",
   "mimetype": "text/x-python",
   "name": "python",
   "nbconvert_exporter": "python",
   "pygments_lexer": "ipython3",
   "version": "3.6.5"
  }
 },
 "nbformat": 4,
 "nbformat_minor": 2
}
